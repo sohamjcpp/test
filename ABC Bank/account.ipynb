{
 "cells": [
  {
   "cell_type": "markdown",
   "id": "11ec34fd",
   "metadata": {},
   "source": [
    "This Query is created by user sohamjcpp"
   ]
  },
  {
   "cell_type": "code",
   "execution_count": 2,
   "id": "fa9d67de",
   "metadata": {},
   "outputs": [],
   "source": [
    "%% sql\n",
    "```\n",
    "WITH Premia_Customer AS (\n",
    "  SELECT cust_code AS intermediary_code, cust_name AS intermediary_name, \n",
    "         cust_code AS fufiller_code\n",
    "  FROM Premia_Pcom_customer\n",
    "  WHERE SUBSTRING(cust_code, 1, 2) = (SELECT dim_intermediary_type FROM policy_master_agg)\n",
    "),\n",
    "Bancs_Party AS (\n",
    "  SELECT party_code AS intermediary_code, party_name AS intermediary_name\n",
    "  FROM Bancs_T_RPDB_POL_PARTY\n",
    "),\n",
    "Derived AS (\n",
    "  SELECT CASE WHEN CURRENT_DATE - aml_acknowledged_timestamp >= 365 THEN 'Yes' ELSE 'No' END AS due_aml_training,\n",
    "         CURRENT_DATE AS reported_date,\n",
    "         CURRENT_TIMESTAMP AS load_timestamp\n",
    ")\n",
    "SELECT PCUST.intermediary_code, PCUST.intermediary_name, \n",
    "       PCUST.intermediary_type, PCUST.agent_mobile_no, PCUST.agent_email_id,\n",
    "       VO.is_aml_acknowledged, VO.aml_acknowledged_timestamp,\n",
    "       DER.due_aml_training, DER.reported_date, DER.load_timestamp,\n",
    "       PMRD.fufiller_code, PMRD.fulfiller_name, PMRD.office_code,\n",
    "       PMRD.office_name, PMRD.zone_name, PMRD.mkt_zone_name\n",
    "FROM Premia_Customer AS PCUST\n",
    "LEFT JOIN Bancs_Party AS BPARTY ON PCUST.intermediary_code = BPARTY.intermediary_code\n",
    "LEFT JOIN vo_login AS VO ON PCUST.intermediary_code = VO.intermediary_code\n",
    "LEFT JOIN Derived AS DER ON VO.aml_acknowledged_timestamp = DER.aml_acknowledged_timestamp\n",
    "LEFT JOIN agg_policy_master_report_daily AS PMRD ON PCUST.intermediary_code = PMRD.intermediary_code\n",
    "ORDER BY PCUST.intermediary_code;\n",
    "```"
   ]
  }
 ],
 "metadata": {},
 "nbformat": 4,
 "nbformat_minor": 5
}
